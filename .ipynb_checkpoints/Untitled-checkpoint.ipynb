{
 "cells": [
  {
   "cell_type": "markdown",
   "metadata": {},
   "source": [
    "# Compositional Model"
   ]
  },
  {
   "cell_type": "markdown",
   "metadata": {},
   "source": [
    "## About\n",
    "\n",
    "This program is able to determine the composition of a multi-component hydrocarbon fluid at a given pressure and temperature. It also includes an example ternary plot of possible mixtures and the ability to view tie-lines as well as hint to the critical point. "
   ]
  },
  {
   "cell_type": "markdown",
   "metadata": {},
   "source": [
    "## Example Code\n",
    "\n",
    "### Ternary Plot\n",
    "\n",
    "An example code to produce a ternary plot from hydrocarbon components can be found at the bottom of the TernaryModel.py file. A similar example can be found below for creating a ternary plot."
   ]
  },
  {
   "cell_type": "code",
   "execution_count": null,
   "metadata": {
    "collapsed": false
   },
   "outputs": [],
   "source": [
    "from TernaryPlot import create_ternary\n",
    "\n",
    "psi = 3000 #Pressure in PSI\n",
    "rankine = 160+460 #Temperature in Rankine\n",
    "molecules = ['C1', 'C4', 'C10'] #Components\n",
    "specific_zFracs = [ 0.1055, 0.6301, 0.2644] # i and j are switched\n",
    "amount = 100 #Number of test points in ternary plot\n",
    "show_heat = True #Colorizes the plot based on fluid/liquid state.\n",
    "show_tie = True #Create tie-lines\n",
    "show_specific = True #Show a specified two-phase region area\n",
    "attempt_curve = True #Create boundary line around two-phase region\n",
    "ternary_plot = create_ternary(amount, show_heat, show_tie, show_specific, attempt_curve)"
   ]
  },
  {
   "cell_type": "code",
   "execution_count": null,
   "metadata": {
    "collapsed": true
   },
   "outputs": [],
   "source": []
  }
 ],
 "metadata": {
  "kernelspec": {
   "display_name": "Python 2",
   "language": "python",
   "name": "python2"
  },
  "language_info": {
   "codemirror_mode": {
    "name": "ipython",
    "version": 2
   },
   "file_extension": ".py",
   "mimetype": "text/x-python",
   "name": "python",
   "nbconvert_exporter": "python",
   "pygments_lexer": "ipython2",
   "version": "2.7.6"
  }
 },
 "nbformat": 4,
 "nbformat_minor": 0
}
