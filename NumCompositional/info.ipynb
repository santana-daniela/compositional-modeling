{
 "cells": [
  {
   "cell_type": "markdown",
   "metadata": {},
   "source": [
    "# Compositional Model"
   ]
  },
  {
   "cell_type": "markdown",
   "metadata": {},
   "source": [
    "## About\n",
    "\n",
    "This program is able to determine the composition of a multi-component hydrocarbon fluid at a given pressure and temperature. It also produces an example ternary plot of possible mixtures and the ability to view tie-lines as well as hint to the critical point. "
   ]
  },
  {
   "cell_type": "markdown",
   "metadata": {
    "collapsed": true
   },
   "source": [
    "<img src=\"images/Selection_013.png\">"
   ]
  },
  {
   "cell_type": "markdown",
   "metadata": {},
   "source": [
    "## Example Code\n",
    "\n",
    "### Ternary Plot\n",
    "\n",
    "An example code to produce a ternary plot from hydrocarbon components can be found below. Most features have been set to False in order to improve runtime"
   ]
  },
  {
   "cell_type": "code",
   "execution_count": 1,
   "metadata": {
    "collapsed": false
   },
   "outputs": [
    {
     "name": "stdout",
     "output_type": "stream",
     "text": [
      "('using number of points:', 10)\n",
      "('scale set to:', 3)\n",
      "('max phases:', [0.64, 0.21, 0.15])\n"
     ]
    }
   ],
   "source": [
    "from TernaryModel import create_ternary\n",
    "\n",
    "psi = 3000 #Pressure in PSI\n",
    "rankine = 160+460 #Temperature in Rankine\n",
    "molecules = ['C1', 'C4', 'C10'] #Components\n",
    "#specific_zFracs = [ 0.1055, 0.6301, 0.2644] # i and j are switched\n",
    "amount = 10 #Number of test points in ternary plot\n",
    "show_heat = True #Colorizes the plot based on fluid/liquid state.\n",
    "show_tie = False #Create tie-lines\n",
    "attempt_curve = False #Create boundary line around two-phase region\n",
    "ternary_plot = create_ternary(molecules, psi, rankine, amt=amount, heatmap=show_heat, tie_lines=show_tie,\n",
    "                              specific_zFracs=[], finish_curve=attempt_curve)"
   ]
  },
  {
   "cell_type": "markdown",
   "metadata": {},
   "source": [
    "<img src=\"images/figure_1.png\">"
   ]
  },
  {
   "cell_type": "markdown",
   "metadata": {},
   "source": [
    "### Flashing a composition \n",
    "\n",
    "The main part of this project is the ability to take a composition at a temperature and pressure and be able to determine the phase. The following code gives an example of how to flash a composition without the need for the ternary plot."
   ]
  },
  {
   "cell_type": "code",
   "execution_count": null,
   "metadata": {
    "collapsed": false
   },
   "outputs": [],
   "source": [
    "from Flash import flash_mixture\n",
    "from Mixture import Mixture\n",
    "\n",
    "#Inputs\n",
    "molecules = ['C1', 'C4', 'C10']\n",
    "z1, z2, z3 = 0.33, 0.33, 0.34\n",
    "pressure = 1500\n",
    "temperature = 500\n",
    "#Setup and Flash\n",
    "specific_mix = Mixture(molecules, [z1, z2, z3])\n",
    "flash_mixture(specific_mix, pressure, temperature)\n",
    "print (specific_mix.vapor, 1- specific_mix.vapor)"
   ]
  },
  {
   "cell_type": "markdown",
   "metadata": {},
   "source": [
    "From the output (0, 1) it can be concluded that the mixture is currently 100% liquid."
   ]
  },
  {
   "cell_type": "markdown",
   "metadata": {},
   "source": [
    "## Concept\n",
    "\n",
    "Originally this was produced in conjunction with my compositional modeling course. Ultimately the program could be used with a reservoir simulator to be able to model complex hydrocarbon flow through porous media. For a more detailed summary of the mathematics and science behind the program please contact me.\n",
    "\n",
    "### Methodology\n",
    "\n",
    "The composition is flashed using the Rachford and Rice flash algorithm using the Peng-Robinson as the equation of state provider.\n",
    "\n",
    "#### Peng Robinson Equation of State\n",
    "\n",
    "A modified Peng Robinson to account for multiple fluids was used. Below is the general form of the equation.\n",
    "\n",
    "<img src=\"images/pengrobinson.png\">\n",
    "\n",
    "#### Rachford and Rice Flash Algorithm\n",
    "\n",
    "The following algorithm contains the basic steps to walk through flashing a mixture to a given temperature and pressure.\n",
    "\n",
    "<img src=\"images/flashalgorithm.png\">\n"
   ]
  },
  {
   "cell_type": "markdown",
   "metadata": {
    "collapsed": true
   },
   "source": [
    "## Installation\n",
    "\n",
    "The program requires Python 2.7 in order to run. Simply follow the examples above to import and use the functions.\n",
    "\n",
    "There are actually two versions of the program. A simple version that only does flash calculations. An updated version was made with the ternary plot. Below are the required libraries for the updated version. The simple version only requires NumPy. Please find the simple version in the /Compositional directory, and the updated version in the /NumCompositional directory.\n",
    "\n",
    "### Used Libraries\n",
    "\n",
    "NumPy - http://www.numpy.org/\n",
    "\n",
    "Pandas - http://pandas.pydata.org/\n",
    "\n",
    "Matplotlib - http://matplotlib.org/\n",
    "\n",
    "python-ternary - https://github.com/marcharper/python-ternary"
   ]
  },
  {
   "cell_type": "markdown",
   "metadata": {},
   "source": [
    "## Contributors\n",
    "\n",
    "I would first like to thank my wonderful professors and teaching assistants. \n",
    "\n",
    "If you would like to add to this project feel free to contact me for any information."
   ]
  }
 ],
 "metadata": {
  "kernelspec": {
   "display_name": "Python 2",
   "language": "python",
   "name": "python2"
  },
  "language_info": {
   "codemirror_mode": {
    "name": "ipython",
    "version": 2
   },
   "file_extension": ".py",
   "mimetype": "text/x-python",
   "name": "python",
   "nbconvert_exporter": "python",
   "pygments_lexer": "ipython2",
   "version": "2.7.6"
  }
 },
 "nbformat": 4,
 "nbformat_minor": 0
}
